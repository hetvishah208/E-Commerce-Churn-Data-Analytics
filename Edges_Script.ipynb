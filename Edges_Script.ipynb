{
  "nbformat": 4,
  "nbformat_minor": 0,
  "metadata": {
    "colab": {
      "provenance": []
    },
    "kernelspec": {
      "name": "python3",
      "display_name": "Python 3"
    },
    "language_info": {
      "name": "python"
    }
  },
  "cells": [
    {
      "cell_type": "code",
      "execution_count": null,
      "metadata": {
        "colab": {
          "base_uri": "https://localhost:8080/"
        },
        "id": "Yos7LKTaoBCb",
        "outputId": "b579e920-abd9-453c-98f1-1bda643935c0"
      },
      "outputs": [
        {
          "output_type": "stream",
          "name": "stdout",
          "text": [
            "DataFrame has been successfully exported to edges.csv.\n"
          ]
        }
      ],
      "source": [
        "import pandas as pd\n",
        "import numpy as np\n",
        "import random\n",
        "\n",
        "# Set seed for reproducibility\n",
        "np.random.seed(42)\n",
        "\n",
        "# Number of rows\n",
        "num_rows = 200\n",
        "\n",
        "# Generate random values for 'src' and 'dst' columns\n",
        "nodes = list(range(101, 150))\n",
        "src_values = random.choices(nodes, k=num_rows)\n",
        "dst_values = random.choices(nodes, k=num_rows)\n",
        "\n",
        "# Generate random values for 'relationship' column\n",
        "relationship_values = random.choices(['friend', 'referred_by'], k=num_rows)\n",
        "\n",
        "# Create DataFrame\n",
        "df = pd.DataFrame({'src': src_values, 'dst': dst_values, 'relationship': relationship_values})\n",
        "\n",
        "# Export DataFrame to Excel\n",
        "csv_file_path = 'edges.csv'\n",
        "df.to_csv(csv_file_path, index=False)\n",
        "\n",
        "# Display a message indicating successful export\n",
        "print(f'DataFrame has been successfully exported to {excel_file_path}.')\n"
      ]
    },
    {
      "cell_type": "code",
      "source": [
        "from google.colab import files\n",
        "\n",
        "# Save DataFrame to CSV\n",
        "csv_file_path = 'edges.csv'\n",
        "df.to_csv(csv_file_path, index=False)\n",
        "\n",
        "# Download the CSV file\n",
        "files.download(csv_file_path)"
      ],
      "metadata": {
        "colab": {
          "base_uri": "https://localhost:8080/",
          "height": 17
        },
        "id": "HG4QfG4ariHS",
        "outputId": "60c7160b-d6b4-4389-e72a-733b21924b32"
      },
      "execution_count": null,
      "outputs": [
        {
          "output_type": "display_data",
          "data": {
            "text/plain": [
              "<IPython.core.display.Javascript object>"
            ],
            "application/javascript": [
              "\n",
              "    async function download(id, filename, size) {\n",
              "      if (!google.colab.kernel.accessAllowed) {\n",
              "        return;\n",
              "      }\n",
              "      const div = document.createElement('div');\n",
              "      const label = document.createElement('label');\n",
              "      label.textContent = `Downloading \"${filename}\": `;\n",
              "      div.appendChild(label);\n",
              "      const progress = document.createElement('progress');\n",
              "      progress.max = size;\n",
              "      div.appendChild(progress);\n",
              "      document.body.appendChild(div);\n",
              "\n",
              "      const buffers = [];\n",
              "      let downloaded = 0;\n",
              "\n",
              "      const channel = await google.colab.kernel.comms.open(id);\n",
              "      // Send a message to notify the kernel that we're ready.\n",
              "      channel.send({})\n",
              "\n",
              "      for await (const message of channel.messages) {\n",
              "        // Send a message to notify the kernel that we're ready.\n",
              "        channel.send({})\n",
              "        if (message.buffers) {\n",
              "          for (const buffer of message.buffers) {\n",
              "            buffers.push(buffer);\n",
              "            downloaded += buffer.byteLength;\n",
              "            progress.value = downloaded;\n",
              "          }\n",
              "        }\n",
              "      }\n",
              "      const blob = new Blob(buffers, {type: 'application/binary'});\n",
              "      const a = document.createElement('a');\n",
              "      a.href = window.URL.createObjectURL(blob);\n",
              "      a.download = filename;\n",
              "      div.appendChild(a);\n",
              "      a.click();\n",
              "      div.remove();\n",
              "    }\n",
              "  "
            ]
          },
          "metadata": {}
        },
        {
          "output_type": "display_data",
          "data": {
            "text/plain": [
              "<IPython.core.display.Javascript object>"
            ],
            "application/javascript": [
              "download(\"download_37c0bb1b-2288-4cd0-928c-6d34b680c00d\", \"edges.csv\", 3521)"
            ]
          },
          "metadata": {}
        }
      ]
    },
    {
      "cell_type": "code",
      "source": [],
      "metadata": {
        "id": "V_2Estxbrze1"
      },
      "execution_count": null,
      "outputs": []
    }
  ]
}